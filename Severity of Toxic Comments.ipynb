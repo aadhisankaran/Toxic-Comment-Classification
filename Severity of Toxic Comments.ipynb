{
 "cells": [
  {
   "cell_type": "markdown",
   "metadata": {},
   "source": [
    "# **Importing Libraries**"
   ]
  },
  {
   "cell_type": "code",
   "execution_count": null,
   "metadata": {
    "execution": {
     "iopub.execute_input": "2022-01-16T06:27:39.774616Z",
     "iopub.status.busy": "2022-01-16T06:27:39.774131Z",
     "iopub.status.idle": "2022-01-16T06:27:48.187056Z",
     "shell.execute_reply": "2022-01-16T06:27:48.186171Z",
     "shell.execute_reply.started": "2022-01-16T06:27:39.77458Z"
    },
    "id": "ZelO1dNk19ni",
    "outputId": "71fc163d-06fb-4d9d-a95e-b72748583ccc"
   },
   "outputs": [],
   "source": [
    "import tensorflow as tf\n",
    "import matplotlib.pyplot as plt\n",
    "from tensorflow.keras.preprocessing.text import Tokenizer\n",
    "from tensorflow.keras.preprocessing.sequence import pad_sequences\n",
    "import keras\n",
    "import csv\n",
    "import pandas as pd\n",
    "import random\n",
    "import numpy as np\n",
    "from keras import regularizers\n",
    "import re\n",
    "from tqdm import tqdm_notebook\n",
    "from nltk.corpus import stopwords\n",
    "from nltk import WordNetLemmatizer\n",
    "import nltk\n",
    "nltk.download('wordnet')\n",
    "import itertools\n",
    "from string import ascii_lowercase\n",
    "from functools import reduce\n",
    "import seaborn as sns\n",
    "from sklearn.model_selection import train_test_split"
   ]
  },
  {
   "cell_type": "markdown",
   "metadata": {
    "id": "pOJzfQKRxknV"
   },
   "source": [
    "## **Importing Data**\n",
    "The data that we have used for the model is Kaggle’s Toxic Comment Classification Dataset on Wikipedia’s Talk page edits."
   ]
  },
  {
   "cell_type": "code",
   "execution_count": null,
   "metadata": {
    "execution": {
     "iopub.execute_input": "2022-01-16T06:27:48.188927Z",
     "iopub.status.busy": "2022-01-16T06:27:48.188696Z",
     "iopub.status.idle": "2022-01-16T06:27:50.33289Z",
     "shell.execute_reply": "2022-01-16T06:27:50.332074Z",
     "shell.execute_reply.started": "2022-01-16T06:27:48.188897Z"
    },
    "id": "0PNpwqCG49JP"
   },
   "outputs": [],
   "source": [
    "train_path='train.csv'\n",
    "train=pd.read_csv(train_path)"
   ]
  },
  {
   "cell_type": "code",
   "execution_count": null,
   "metadata": {
    "execution": {
     "iopub.execute_input": "2022-01-16T06:27:50.334303Z",
     "iopub.status.busy": "2022-01-16T06:27:50.334044Z",
     "iopub.status.idle": "2022-01-16T06:27:50.357161Z",
     "shell.execute_reply": "2022-01-16T06:27:50.356245Z",
     "shell.execute_reply.started": "2022-01-16T06:27:50.334273Z"
    },
    "id": "Nz71NAeGodid",
    "outputId": "b82489b6-551c-40b2-8191-a5ee799710d5"
   },
   "outputs": [],
   "source": [
    "train.head()"
   ]
  },
  {
   "cell_type": "code",
   "execution_count": null,
   "metadata": {
    "execution": {
     "iopub.execute_input": "2022-01-16T06:27:50.359609Z",
     "iopub.status.busy": "2022-01-16T06:27:50.359353Z",
     "iopub.status.idle": "2022-01-16T06:27:50.413004Z",
     "shell.execute_reply": "2022-01-16T06:27:50.411994Z",
     "shell.execute_reply.started": "2022-01-16T06:27:50.359577Z"
    },
    "id": "MMZRnW6nottD",
    "outputId": "feb1fee9-d409-450c-b0de-022a4196414c"
   },
   "outputs": [],
   "source": [
    "train.isnull().sum()"
   ]
  },
  {
   "cell_type": "code",
   "execution_count": null,
   "metadata": {
    "execution": {
     "iopub.execute_input": "2022-01-16T06:27:50.414846Z",
     "iopub.status.busy": "2022-01-16T06:27:50.414209Z",
     "iopub.status.idle": "2022-01-16T06:27:50.431943Z",
     "shell.execute_reply": "2022-01-16T06:27:50.43086Z",
     "shell.execute_reply.started": "2022-01-16T06:27:50.414809Z"
    },
    "id": "21b87Hz3pIzd",
    "outputId": "c145a78b-95ad-4caf-96d1-1da74b77ff22"
   },
   "outputs": [],
   "source": [
    "labels = ['toxic', 'severe_toxic', 'obscene', 'threat', 'insult', 'identity_hate']\n",
    "y = train[labels].values  \n",
    "print(y[:5])"
   ]
  },
  {
   "cell_type": "markdown",
   "metadata": {
    "id": "rss-A1y7vsEU"
   },
   "source": [
    "# **Data Visualization**"
   ]
  },
  {
   "cell_type": "code",
   "execution_count": null,
   "metadata": {
    "execution": {
     "iopub.execute_input": "2022-01-16T06:27:50.434326Z",
     "iopub.status.busy": "2022-01-16T06:27:50.433946Z",
     "iopub.status.idle": "2022-01-16T06:27:50.591709Z",
     "shell.execute_reply": "2022-01-16T06:27:50.590845Z",
     "shell.execute_reply.started": "2022-01-16T06:27:50.43428Z"
    },
    "id": "xGqltXpc0Duh"
   },
   "outputs": [],
   "source": [
    "lens=train['comment_text'].str.len()"
   ]
  },
  {
   "cell_type": "code",
   "execution_count": null,
   "metadata": {
    "execution": {
     "iopub.execute_input": "2022-01-16T06:27:50.593086Z",
     "iopub.status.busy": "2022-01-16T06:27:50.592843Z",
     "iopub.status.idle": "2022-01-16T06:27:50.961303Z",
     "shell.execute_reply": "2022-01-16T06:27:50.960426Z",
     "shell.execute_reply.started": "2022-01-16T06:27:50.593039Z"
    },
    "id": "yPY2zx7P3058",
    "outputId": "f0e45840-ff31-4efc-b639-edd5000e184b"
   },
   "outputs": [],
   "source": [
    "resize = np.arange(0, 1500,200)\n",
    "lens.hist(color='pink', figsize=(10, 6), bins=resize,width=200 )\n",
    "plt.title('Length Distribution')\n",
    "plt.xlabel('Length of the Comments')\n",
    "plt.ylabel('Number of Comments')"
   ]
  },
  {
   "cell_type": "markdown",
   "metadata": {},
   "source": [
    "Maximum comment length are ranging from 0 to 200"
   ]
  },
  {
   "cell_type": "code",
   "execution_count": null,
   "metadata": {
    "execution": {
     "iopub.execute_input": "2022-01-16T06:27:50.96277Z",
     "iopub.status.busy": "2022-01-16T06:27:50.96254Z",
     "iopub.status.idle": "2022-01-16T06:27:51.129583Z",
     "shell.execute_reply": "2022-01-16T06:27:51.128539Z",
     "shell.execute_reply.started": "2022-01-16T06:27:50.962741Z"
    },
    "id": "EZ-gEFhtQ2Qx",
    "outputId": "df25efe4-beb1-4626-a048-99dd6d0a8e15"
   },
   "outputs": [],
   "source": [
    "class_cnt = {}\n",
    "for label in labels:\n",
    "    class_cnt[label] = len(train[train[label] == 1])\n",
    "    \n",
    "class_cnt = {k: v for k, v in sorted(class_cnt.items(), key = lambda item: item[1], reverse = True)}\n",
    "values=[*class_cnt.values()]\n",
    "plt.pie(values, labels=labels, radius=2.5,autopct='%1.1f%%')\n",
    "plt.show()"
   ]
  },
  {
   "cell_type": "markdown",
   "metadata": {},
   "source": [
    "Number of toxic comments in the dataset are significantly higher. Identity Hate comments, on the other hand, are the lowest."
   ]
  },
  {
   "cell_type": "markdown",
   "metadata": {
    "id": "kPT1FaZmR_7Y"
   },
   "source": [
    "# **Data Pre-Processing**\n",
    "\n"
   ]
  },
  {
   "cell_type": "code",
   "execution_count": null,
   "metadata": {
    "execution": {
     "iopub.execute_input": "2022-01-16T06:27:51.131945Z",
     "iopub.status.busy": "2022-01-16T06:27:51.131506Z",
     "iopub.status.idle": "2022-01-16T06:27:51.150361Z",
     "shell.execute_reply": "2022-01-16T06:27:51.149553Z",
     "shell.execute_reply.started": "2022-01-16T06:27:51.131896Z"
    },
    "id": "ZpiSIG4XDEq6"
   },
   "outputs": [],
   "source": [
    "RE_PATTERNS = {\n",
    "    ' american ':\n",
    "        [\n",
    "            'amerikan'\n",
    "        ],\n",
    "\n",
    "    ' adolf ':\n",
    "        [\n",
    "            'adolf'\n",
    "        ],\n",
    "\n",
    "\n",
    "    ' hitler ':\n",
    "        [\n",
    "            'hitler'\n",
    "        ],\n",
    "\n",
    "    ' fuck':\n",
    "        [\n",
    "            '(f)(u|[^a-z0-9 ])(c|[^a-z0-9 ])(k|[^a-z0-9 ])([^ ])*',\n",
    "            '(f)([^a-z]*)(u)([^a-z]*)(c)([^a-z]*)(k)',\n",
    "            ' f[!@#\\$%\\^\\&\\*]*u[!@#\\$%\\^&\\*]*k', 'f u u c',\n",
    "            '(f)(c|[^a-z ])(u|[^a-z ])(k)', r'f\\*',\n",
    "            'feck ', ' fux ', 'f\\*\\*', \n",
    "            'f\\-ing', 'f\\.u\\.', 'f###', ' fu ', 'f@ck', 'f u c k', 'f uck', 'f ck','fuk', 'wtf','fucck','f cking'\n",
    "        ],\n",
    "\n",
    "    ' ass ':\n",
    "        [\n",
    "            '[^a-z]ass ', '[^a-z]azz ', 'arrse', ' arse ', '@\\$\\$'\n",
    "                                                           '[^a-z]anus', ' a\\*s\\*s', '[^a-z]ass[^a-z ]',\n",
    "            'a[@#\\$%\\^&\\*][@#\\$%\\^&\\*]', '[^a-z]anal ', 'a s s'\n",
    "        ],\n",
    "\n",
    "    ' asshole ':\n",
    "        [\n",
    "            ' a[s|z]*wipe', 'a[s|z]*[w]*h[o|0]+[l]*e', '@\\$\\$hole', 'ass hole'\n",
    "        ],\n",
    "\n",
    "    ' bitch ':\n",
    "        [\n",
    "            'b[w]*i[t]*ch', 'b!tch',\n",
    "            'bi\\+ch', 'b!\\+ch', '(b)([^a-z]*)(i)([^a-z]*)(t)([^a-z]*)(c)([^a-z]*)(h)',\n",
    "            'biatch', 'bi\\*\\*h', 'bytch', 'b i t c h','beetch'\n",
    "        ],\n",
    "\n",
    "    ' bastard ':\n",
    "        [\n",
    "            'ba[s|z]+t[e|a]+rd'\n",
    "        ],\n",
    "\n",
    "    ' transgender':\n",
    "        [\n",
    "            'transgender','trans gender'\n",
    "        ],\n",
    "\n",
    "    ' gay ':\n",
    "        [\n",
    "            'gay'\n",
    "        ],\n",
    "\n",
    "    ' cock ':\n",
    "        [\n",
    "            '[^a-z]cock', 'c0ck', '[^a-z]cok ', 'c0k', '[^a-z]cok[^aeiou]', ' cawk',\n",
    "            '(c)([^a-z ])(o)([^a-z ]*)(c)([^a-z ]*)(k)', 'c o c k'\n",
    "        ],\n",
    "\n",
    "    ' dick ':\n",
    "        [\n",
    "            ' dick[^aeiou]', 'deek', 'd i c k','diick '\n",
    "        ],\n",
    "\n",
    "    ' suck ':\n",
    "        [\n",
    "            'sucker', '(s)([^a-z ]*)(u)([^a-z ]*)(c)([^a-z ]*)(k)', 'sucks', '5uck', 's u c k'\n",
    "        ],\n",
    "\n",
    "    ' cunt ':\n",
    "        [\n",
    "            'cunt', 'c u n t'\n",
    "        ],\n",
    "\n",
    "    ' bullshit ':\n",
    "        [\n",
    "            'bullsh\\*t', 'bull\\$hit','bs'\n",
    "        ],\n",
    "\n",
    "    ' homosexual':\n",
    "        [\n",
    "            'homo sexual','homosex'\n",
    "        ],\n",
    "\n",
    "    ' jerk ':\n",
    "        [\n",
    "            'jerk'\n",
    "        ],\n",
    "\n",
    "    ' idiot ':\n",
    "        [\n",
    "            'i[d]+io[t]+', '(i)([^a-z ]*)(d)([^a-z ]*)(i)([^a-z ]*)(o)([^a-z ]*)(t)', 'idiots', 'i d i o t'\n",
    "        ],\n",
    "\n",
    "    ' dumb ':\n",
    "        [\n",
    "            '(d)([^a-z ]*)(u)([^a-z ]*)(m)([^a-z ]*)(b)'\n",
    "        ],\n",
    "\n",
    "    ' shit ':\n",
    "        [\n",
    "            'shitty', '(s)([^a-z ]*)(h)([^a-z ]*)(i)([^a-z ]*)(t)', 'shite', '\\$hit', 's h i t'\n",
    "        ],\n",
    "\n",
    "    ' shithole ':\n",
    "        [\n",
    "            'shythole','shit hole'\n",
    "        ],\n",
    "\n",
    "    ' retard ':\n",
    "        [\n",
    "            'returd', 'retad', 'retard', 'wiktard', 'wikitud'\n",
    "        ],\n",
    "\n",
    "    ' rape ':\n",
    "        [\n",
    "            ' raped'\n",
    "        ],\n",
    "\n",
    "    ' dumbass':\n",
    "        [\n",
    "            'dumb ass', 'dubass'\n",
    "        ],\n",
    "\n",
    "    ' asshead':\n",
    "        [\n",
    "            'butthead', 'ass head'\n",
    "        ],\n",
    "\n",
    "    ' sex ':\n",
    "        [\n",
    "            's3x', 'sexuality',\n",
    "        ],\n",
    "\n",
    "\n",
    "    ' nigger ':\n",
    "        [\n",
    "            'nigger', 'ni[g]+a', ' nigr ', 'negrito', 'niguh', 'n3gr', 'n i g g e r'\n",
    "        ],\n",
    "\n",
    "    ' shut the fuck up':\n",
    "        [\n",
    "            'stfu'\n",
    "        ],\n",
    "\n",
    "    ' pussy ':\n",
    "        [\n",
    "            'pussy[^c]', 'pusy', 'pussi[^l]', 'pusses'\n",
    "        ],\n",
    "\n",
    "    ' faggot ':\n",
    "        [\n",
    "            'faggot', ' fa[g]+[s]*[^a-z ]', 'fagot', 'f a g g o t', 'faggit',\n",
    "            '(f)([^a-z ]*)(a)([^a-z ]*)([g]+)([^a-z ]*)(o)([^a-z ]*)(t)', 'fau[g]+ot', 'fae[g]+ot',\n",
    "        ],\n",
    "\n",
    "    ' motherfucker':\n",
    "        [\n",
    "            ' motha ', ' motha f', ' mother f', 'motherucker', 'mother fucker'\n",
    "        ],\n",
    "\n",
    "    ' whore ':\n",
    "        [\n",
    "            'wh\\*\\*\\*', 'w h o r e'\n",
    "        ],\n",
    "}"
   ]
  },
  {
   "cell_type": "code",
   "execution_count": null,
   "metadata": {
    "execution": {
     "iopub.execute_input": "2022-01-16T06:27:51.155424Z",
     "iopub.status.busy": "2022-01-16T06:27:51.154904Z",
     "iopub.status.idle": "2022-01-16T06:27:51.16661Z",
     "shell.execute_reply": "2022-01-16T06:27:51.16532Z",
     "shell.execute_reply.started": "2022-01-16T06:27:51.155377Z"
    },
    "id": "5YDQvwFp7C6x"
   },
   "outputs": [],
   "source": [
    "##Text Normalization\n",
    "\n",
    "def clean_text(text,remove_repeat_text=True, remove_patterns_text=True, is_lower=True):\n",
    "\n",
    "  if is_lower:\n",
    "    text=text.lower()\n",
    "    \n",
    "  if remove_patterns_text:\n",
    "    for target, patterns in RE_PATTERNS.items():\n",
    "      for pat in patterns:\n",
    "        text=str(text).replace(pat, target)\n",
    "\n",
    "  if remove_repeat_text:\n",
    "    text = re.sub(r'(.)\\1{2,}', r'\\1', text) \n",
    "\n",
    "  text = str(text).replace(\"\\n\", \" \")\n",
    "  text = re.sub(r'[^\\w\\s]',' ',text)\n",
    "  text = re.sub('[0-9]',\"\",text)\n",
    "  text = re.sub(\" +\", \" \", text)\n",
    "  text = re.sub(\"([^\\x00-\\x7F])+\",\" \",text)\n",
    "  return text "
   ]
  },
  {
   "cell_type": "code",
   "execution_count": null,
   "metadata": {
    "execution": {
     "iopub.execute_input": "2022-01-16T06:27:51.168753Z",
     "iopub.status.busy": "2022-01-16T06:27:51.167861Z",
     "iopub.status.idle": "2022-01-16T06:28:31.041024Z",
     "shell.execute_reply": "2022-01-16T06:28:31.040249Z",
     "shell.execute_reply.started": "2022-01-16T06:27:51.168715Z"
    },
    "id": "8GlLim1X_3-Y",
    "outputId": "219112fd-3cc3-449e-a8b8-f73660118e4e"
   },
   "outputs": [],
   "source": [
    "train_texts = [] \n",
    "for line in tqdm_notebook(train['comment_text'], total=159571): \n",
    "    train_texts.append(clean_text(line))"
   ]
  },
  {
   "cell_type": "code",
   "execution_count": null,
   "metadata": {
    "execution": {
     "iopub.execute_input": "2022-01-16T06:28:31.042783Z",
     "iopub.status.busy": "2022-01-16T06:28:31.042387Z",
     "iopub.status.idle": "2022-01-16T06:28:31.050151Z",
     "shell.execute_reply": "2022-01-16T06:28:31.049179Z",
     "shell.execute_reply.started": "2022-01-16T06:28:31.042736Z"
    },
    "id": "czCak8J9EZYO"
   },
   "outputs": [],
   "source": [
    "##Lemmatization\n",
    "\n",
    "lemmatizer= WordNetLemmatizer()\n",
    "def lemma(text, lemmatization=True):\n",
    "  output=''\n",
    "  if lemmatization:\n",
    "    text=text.split(' ')\n",
    "    for word in text:\n",
    "      word1 = lemmatizer.lemmatize(word, pos = \"n\") #noun \n",
    "      word2 = lemmatizer.lemmatize(word1, pos = \"v\") #verb\n",
    "      word3 = lemmatizer.lemmatize(word2, pos = \"a\") #adjective\n",
    "      word4 = lemmatizer.lemmatize(word3, pos = \"r\") #adverb\n",
    "      output=output + \" \" + word4\n",
    "  else:\n",
    "    output=text\n",
    "  \n",
    "  return str(output.strip())"
   ]
  },
  {
   "cell_type": "code",
   "execution_count": null,
   "metadata": {
    "execution": {
     "iopub.execute_input": "2022-01-16T06:28:31.052097Z",
     "iopub.status.busy": "2022-01-16T06:28:31.051743Z",
     "iopub.status.idle": "2022-01-16T06:31:40.965037Z",
     "shell.execute_reply": "2022-01-16T06:31:40.963844Z",
     "shell.execute_reply.started": "2022-01-16T06:28:31.052042Z"
    },
    "id": "FeykqxM7Zsg3"
   },
   "outputs": [],
   "source": [
    "lema_train_text=[]\n",
    "for line in train_texts:\n",
    "    lema_train_text.append(lemma(line))"
   ]
  },
  {
   "cell_type": "code",
   "execution_count": null,
   "metadata": {
    "execution": {
     "iopub.execute_input": "2022-01-16T06:31:40.966553Z",
     "iopub.status.busy": "2022-01-16T06:31:40.966275Z",
     "iopub.status.idle": "2022-01-16T06:31:40.982018Z",
     "shell.execute_reply": "2022-01-16T06:31:40.980928Z",
     "shell.execute_reply.started": "2022-01-16T06:31:40.96652Z"
    },
    "id": "9iFYqmJrlnLV"
   },
   "outputs": [],
   "source": [
    "##Stopwords Removal\n",
    "\n",
    "stopword_list=[]\n",
    "def iter_all_strings():\n",
    "    for size in itertools.count(1):\n",
    "        for s in itertools.product(ascii_lowercase, repeat=size):\n",
    "            yield \"\".join(s)\n",
    "\n",
    "dual_alpha_list=[]\n",
    "for s in iter_all_strings():\n",
    "    dual_alpha_list.append(s)\n",
    "    if s == 'zz':\n",
    "        break\n",
    "\n",
    "dual_alpha_list.remove('i')\n",
    "dual_alpha_list.remove('a')\n",
    "dual_alpha_list.remove('am')\n",
    "dual_alpha_list.remove('an')\n",
    "dual_alpha_list.remove('as')\n",
    "dual_alpha_list.remove('at')\n",
    "dual_alpha_list.remove('be')\n",
    "dual_alpha_list.remove('by')\n",
    "dual_alpha_list.remove('do')\n",
    "dual_alpha_list.remove('go')\n",
    "dual_alpha_list.remove('he')\n",
    "dual_alpha_list.remove('hi')\n",
    "dual_alpha_list.remove('if')\n",
    "dual_alpha_list.remove('is')\n",
    "dual_alpha_list.remove('in')\n",
    "dual_alpha_list.remove('me')\n",
    "dual_alpha_list.remove('my')\n",
    "dual_alpha_list.remove('no')\n",
    "dual_alpha_list.remove('of')\n",
    "dual_alpha_list.remove('on')\n",
    "dual_alpha_list.remove('or')\n",
    "dual_alpha_list.remove('ok')\n",
    "dual_alpha_list.remove('so')\n",
    "dual_alpha_list.remove('to')\n",
    "dual_alpha_list.remove('up')\n",
    "dual_alpha_list.remove('us')\n",
    "dual_alpha_list.remove('we')\n",
    "\n",
    "\n",
    "for letter in dual_alpha_list:\n",
    "    stopword_list.append(letter)"
   ]
  },
  {
   "cell_type": "code",
   "execution_count": null,
   "metadata": {
    "execution": {
     "iopub.execute_input": "2022-01-16T06:31:40.983805Z",
     "iopub.status.busy": "2022-01-16T06:31:40.98356Z",
     "iopub.status.idle": "2022-01-16T06:31:41.000259Z",
     "shell.execute_reply": "2022-01-16T06:31:40.999149Z",
     "shell.execute_reply.started": "2022-01-16T06:31:40.983773Z"
    },
    "id": "h8v5mUZnudjG",
    "outputId": "e5083ea2-144b-4734-eec7-d5cb4864b746"
   },
   "outputs": [],
   "source": [
    "print(stopword_list)\n",
    "print(len(stopword_list))\n",
    "print(len(lema_train_text))"
   ]
  },
  {
   "cell_type": "code",
   "execution_count": null,
   "metadata": {
    "execution": {
     "iopub.execute_input": "2022-01-16T06:31:41.002517Z",
     "iopub.status.busy": "2022-01-16T06:31:41.001871Z",
     "iopub.status.idle": "2022-01-16T06:37:30.051214Z",
     "shell.execute_reply": "2022-01-16T06:37:30.050139Z",
     "shell.execute_reply.started": "2022-01-16T06:31:41.002469Z"
    },
    "id": "pVT2cYx3Uiav",
    "outputId": "378429e1-0b91-445b-f68f-d10ad1ea117f"
   },
   "outputs": [],
   "source": [
    "def search_stopwords(data, search_stop=True):\n",
    "  output=\"\"\n",
    "  if search_stop:\n",
    "    data=data.split(\" \")\n",
    "    for word in data:\n",
    "      if not word in stopword_list:\n",
    "        output=output+\" \"+word \n",
    "  else:\n",
    "    output=data\n",
    "  return str(output.strip())\n",
    "\n",
    "potential_stopwords = []\n",
    "for line in tqdm_notebook(lema_train_text, total=159571): \n",
    "    potential_stopwords.append(search_stopwords(line))\n",
    "print(len(potential_stopwords))\n",
    "\n",
    "def string_combine_a(stopword):\n",
    "  final_a=\"\"\n",
    "  for item in range(39893):\n",
    "    final_a=final_a+\" \"+stopword[item]\n",
    "  return final_a\n",
    "\n",
    "def string_combine_b(stopword):\n",
    "  final_b=\"\"\n",
    "  for item in range(39893,79785):\n",
    "    final_b=final_b+\" \"+stopword[item]\n",
    "  return final_b\n",
    "\n",
    "def string_combine_c(stopword):\n",
    "  final_c=\"\"\n",
    "  for item in range(79785,119678):\n",
    "    final_c=final_c+\" \"+stopword[item]\n",
    "  return final_c\n",
    "\n",
    "def string_combine_d(stopword):\n",
    "  final_d=\"\"\n",
    "  for item in range(119678,159571):\n",
    "    final_d=final_d+\" \"+stopword[item]\n",
    "  return final_d\n",
    "\n",
    "total_string_potential_a=string_combine_a(potential_stopwords)\n",
    "total_string_potential_b=string_combine_b(potential_stopwords)\n",
    "total_string_potential_c=string_combine_c(potential_stopwords)\n",
    "total_string_potential_d=string_combine_d(potential_stopwords)\n",
    "\n",
    "def word_count(str):\n",
    "    counts = dict()\n",
    "    words = str.split()\n",
    "\n",
    "    for word in words:\n",
    "        if word in counts:\n",
    "            counts[word] += 1\n",
    "        else:\n",
    "            counts[word] = 1\n",
    "    return counts\n",
    "\n",
    "total_string_potential_a_dict=word_count(total_string_potential_a)\n",
    "total_string_potential_b_dict=word_count(total_string_potential_b)\n",
    "total_string_potential_c_dict=word_count(total_string_potential_c)\n",
    "total_string_potential_d_dict=word_count(total_string_potential_d)\n",
    "\n",
    "total_string_potential_a_df = pd.DataFrame(list(total_string_potential_a_dict.items()),columns = ['Word','Count'])\n",
    "total_string_potential_b_df = pd.DataFrame(list(total_string_potential_b_dict.items()),columns = ['Word','Count'])\n",
    "total_string_potential_c_df = pd.DataFrame(list(total_string_potential_c_dict.items()),columns = ['Word','Count'])\n",
    "total_string_potential_d_df = pd.DataFrame(list(total_string_potential_d_dict.items()),columns = ['Word','Count'])\n",
    "\n",
    "top50_potential_stopwords_a=total_string_potential_a_df.sort_values(by=['Count'],ascending=False).head(50)\n",
    "top50_potential_stopwords_b=total_string_potential_b_df.sort_values(by=['Count'],ascending=False).head(50)\n",
    "top50_potential_stopwords_c=total_string_potential_c_df.sort_values(by=['Count'],ascending=False).head(50)\n",
    "top50_potential_stopwords_d=total_string_potential_d_df.sort_values(by=['Count'],ascending=False).head(50)\n",
    "\n"
   ]
  },
  {
   "cell_type": "code",
   "execution_count": null,
   "metadata": {
    "execution": {
     "iopub.execute_input": "2022-01-16T06:37:30.052607Z",
     "iopub.status.busy": "2022-01-16T06:37:30.052384Z",
     "iopub.status.idle": "2022-01-16T06:37:30.061748Z",
     "shell.execute_reply": "2022-01-16T06:37:30.060757Z",
     "shell.execute_reply.started": "2022-01-16T06:37:30.052577Z"
    },
    "id": "ih_xC1PGpXC_",
    "outputId": "f9fbcabf-7488-452d-eda0-ad1b75abe9c5"
   },
   "outputs": [],
   "source": [
    "#Looking for common terms in all top 50 dataframes.\n",
    "common_potential_stopwords=list(reduce(set.intersection,map(set,[top50_potential_stopwords_a.Word,top50_potential_stopwords_b.Word,top50_potential_stopwords_c.Word,top50_potential_stopwords_d.Word])))\n",
    "print(common_potential_stopwords)"
   ]
  },
  {
   "cell_type": "code",
   "execution_count": null,
   "metadata": {
    "execution": {
     "iopub.execute_input": "2022-01-16T06:37:30.063151Z",
     "iopub.status.busy": "2022-01-16T06:37:30.062899Z",
     "iopub.status.idle": "2022-01-16T06:37:30.09248Z",
     "shell.execute_reply": "2022-01-16T06:37:30.091317Z",
     "shell.execute_reply.started": "2022-01-16T06:37:30.063118Z"
    },
    "id": "BKTjyCpvpaSR"
   },
   "outputs": [],
   "source": [
    "#Retaining certain words and removing others from the above list.\n",
    "potential_stopwords=['editor', 'reference', 'thank', 'work','find', 'good', 'know', 'like', 'look', 'thing', 'want', 'time', 'list', 'section','wikipedia', 'doe', 'add','new', 'try', 'think', 'write','use', 'user', 'way', 'page']\n",
    "\n",
    "#Adding above retrived words into the stopwords list.\n",
    "for word in potential_stopwords:\n",
    "    stopword_list.append(word)"
   ]
  },
  {
   "cell_type": "code",
   "execution_count": null,
   "metadata": {
    "execution": {
     "iopub.execute_input": "2022-01-16T06:37:30.094896Z",
     "iopub.status.busy": "2022-01-16T06:37:30.094576Z",
     "iopub.status.idle": "2022-01-16T06:39:08.21294Z",
     "shell.execute_reply": "2022-01-16T06:39:08.212015Z",
     "shell.execute_reply.started": "2022-01-16T06:37:30.094851Z"
    },
    "id": "XgDjcBsBvbKP",
    "outputId": "c32fd9a4-da6e-4e4e-f4fa-12dd2f279476"
   },
   "outputs": [],
   "source": [
    "def remove_stopwords(text, remove_stop=True):\n",
    "  output = \"\"\n",
    "  if remove_stop:\n",
    "    text=text.split(\" \")\n",
    "    for word in text:\n",
    "      if word not in stopword_list:\n",
    "        output=output + \" \" + word\n",
    "  else :\n",
    "    output=text\n",
    "\n",
    "  return str(output.strip())\n",
    "\n",
    "#Removing Stopwords from Train Data\n",
    "processed_train_data = [] \n",
    "for line in tqdm_notebook(lema_train_text, total=159571): \n",
    "    processed_train_data.append(remove_stopwords(line))"
   ]
  },
  {
   "cell_type": "code",
   "execution_count": null,
   "metadata": {
    "execution": {
     "iopub.execute_input": "2022-01-16T06:39:08.214828Z",
     "iopub.status.busy": "2022-01-16T06:39:08.21452Z",
     "iopub.status.idle": "2022-01-16T06:39:08.222797Z",
     "shell.execute_reply": "2022-01-16T06:39:08.22205Z",
     "shell.execute_reply.started": "2022-01-16T06:39:08.214784Z"
    }
   },
   "outputs": [],
   "source": [
    "processed_train_data[:5]"
   ]
  },
  {
   "cell_type": "code",
   "execution_count": null,
   "metadata": {
    "execution": {
     "iopub.execute_input": "2022-01-16T06:39:08.605134Z",
     "iopub.status.busy": "2022-01-16T06:39:08.604438Z",
     "iopub.status.idle": "2022-01-16T06:39:08.619768Z",
     "shell.execute_reply": "2022-01-16T06:39:08.61871Z",
     "shell.execute_reply.started": "2022-01-16T06:39:08.605059Z"
    },
    "id": "n_QCQfgF5dDq"
   },
   "outputs": [],
   "source": [
    "max_features=148844\n",
    "maxpadlen = 300          \n",
    "val_split = 0.2      \n",
    "embedding_dim_fasttext = 300"
   ]
  },
  {
   "cell_type": "code",
   "execution_count": null,
   "metadata": {
    "execution": {
     "iopub.execute_input": "2022-01-16T06:39:08.623927Z",
     "iopub.status.busy": "2022-01-16T06:39:08.621482Z",
     "iopub.status.idle": "2022-01-16T06:39:26.749384Z",
     "shell.execute_reply": "2022-01-16T06:39:26.748254Z",
     "shell.execute_reply.started": "2022-01-16T06:39:08.623889Z"
    },
    "id": "rEGSK5805uHl"
   },
   "outputs": [],
   "source": [
    "#Tokenization\n",
    "tokenizer = Tokenizer(num_words=max_features)\n",
    "tokenizer.fit_on_texts(list(processed_train_data))\n",
    "list_tokenized_train = tokenizer.texts_to_sequences(processed_train_data)"
   ]
  },
  {
   "cell_type": "code",
   "execution_count": null,
   "metadata": {
    "execution": {
     "iopub.execute_input": "2022-01-16T06:39:26.751156Z",
     "iopub.status.busy": "2022-01-16T06:39:26.750874Z",
     "iopub.status.idle": "2022-01-16T06:39:26.757328Z",
     "shell.execute_reply": "2022-01-16T06:39:26.75638Z",
     "shell.execute_reply.started": "2022-01-16T06:39:26.75112Z"
    },
    "id": "zxtcb4vtA0M9",
    "outputId": "a2fa9c7e-6d82-49fd-d88e-7847a62e2b3f"
   },
   "outputs": [],
   "source": [
    "#Indexing\n",
    "word_index=tokenizer.word_index\n",
    "print(len(word_index))"
   ]
  },
  {
   "cell_type": "code",
   "execution_count": null,
   "metadata": {
    "execution": {
     "iopub.execute_input": "2022-01-16T06:39:26.758858Z",
     "iopub.status.busy": "2022-01-16T06:39:26.758596Z",
     "iopub.status.idle": "2022-01-16T06:39:29.58379Z",
     "shell.execute_reply": "2022-01-16T06:39:29.582708Z",
     "shell.execute_reply.started": "2022-01-16T06:39:26.758825Z"
    },
    "id": "ZUPcg7k7BqrV"
   },
   "outputs": [],
   "source": [
    "#padding\n",
    "training_padded=pad_sequences(list_tokenized_train, maxlen=maxpadlen, padding = 'post')"
   ]
  },
  {
   "cell_type": "code",
   "execution_count": null,
   "metadata": {
    "execution": {
     "iopub.execute_input": "2022-01-16T06:39:29.586478Z",
     "iopub.status.busy": "2022-01-16T06:39:29.585843Z",
     "iopub.status.idle": "2022-01-16T06:39:29.601918Z",
     "shell.execute_reply": "2022-01-16T06:39:29.60082Z",
     "shell.execute_reply.started": "2022-01-16T06:39:29.586406Z"
    },
    "id": "BJSlfYT6Bv20",
    "outputId": "be90e803-19c0-4990-a840-a1fadfe95a75"
   },
   "outputs": [],
   "source": [
    "print('Tokenized sentences: \\n', training_padded[10])\n",
    "print('One hot label: \\n', y[10])"
   ]
  },
  {
   "cell_type": "code",
   "execution_count": null,
   "metadata": {
    "execution": {
     "iopub.execute_input": "2022-01-16T06:45:33.023908Z",
     "iopub.status.busy": "2022-01-16T06:45:33.023575Z",
     "iopub.status.idle": "2022-01-16T06:45:33.143495Z",
     "shell.execute_reply": "2022-01-16T06:45:33.142529Z",
     "shell.execute_reply.started": "2022-01-16T06:45:33.023872Z"
    },
    "id": "qy_1cG0vEGzh"
   },
   "outputs": [],
   "source": [
    "#Splitting data into Training and Validation Set\n",
    "\n",
    "x_train, x_val, y_train, y_val = train_test_split(training_padded, y, test_size=0.2, random_state=2)"
   ]
  },
  {
   "cell_type": "code",
   "execution_count": null,
   "metadata": {
    "execution": {
     "iopub.execute_input": "2022-01-16T06:45:33.894348Z",
     "iopub.status.busy": "2022-01-16T06:45:33.894033Z",
     "iopub.status.idle": "2022-01-16T06:45:33.905111Z",
     "shell.execute_reply": "2022-01-16T06:45:33.903825Z",
     "shell.execute_reply.started": "2022-01-16T06:45:33.894315Z"
    },
    "id": "kFjH3eBWEwPD",
    "outputId": "48802ca5-ae06-4bff-aa79-5558d82d1dc3"
   },
   "outputs": [],
   "source": [
    "print('Number of entries in each category: ')\n",
    "print('Training: ', y_train.sum(axis=0))\n",
    "print('Validation: ', y_val.sum(axis=0))"
   ]
  },
  {
   "cell_type": "code",
   "execution_count": null,
   "metadata": {
    "execution": {
     "iopub.execute_input": "2022-01-16T06:45:41.233567Z",
     "iopub.status.busy": "2022-01-16T06:45:41.232719Z",
     "iopub.status.idle": "2022-01-16T06:47:39.15178Z",
     "shell.execute_reply": "2022-01-16T06:47:39.150756Z",
     "shell.execute_reply.started": "2022-01-16T06:45:41.233531Z"
    },
    "id": "vrSthxVAE__E"
   },
   "outputs": [],
   "source": [
    "embeddings_index_fasttext = {}\n",
    "f = open('../input/popular-embedding/wiki-news-300d-1M/wiki-news-300d-1M.vec', encoding='utf8')\n",
    "for line in f:\n",
    "    line.encode('utf-8').strip()\n",
    "    values = line.split()\n",
    "    word = values[0]\n",
    "    embeddings_index_fasttext[word] = np.asarray(values[1:], dtype='float32')\n",
    "f.close()\n",
    "embedding_matrix_fasttext = np.random.random((len(word_index) + 1, embedding_dim_fasttext))\n",
    "for word, i in word_index.items():\n",
    "    embedding_vector = embeddings_index_fasttext.get(word)\n",
    "    if embedding_vector is not None:\n",
    "        embedding_matrix_fasttext[i] = embedding_vector"
   ]
  },
  {
   "cell_type": "code",
   "execution_count": null,
   "metadata": {
    "execution": {
     "iopub.execute_input": "2022-01-16T06:47:52.694486Z",
     "iopub.status.busy": "2022-01-16T06:47:52.693984Z",
     "iopub.status.idle": "2022-01-16T06:47:52.703366Z",
     "shell.execute_reply": "2022-01-16T06:47:52.702245Z",
     "shell.execute_reply.started": "2022-01-16T06:47:52.694435Z"
    }
   },
   "outputs": [],
   "source": [
    "print(type(x_train))\n",
    "print(type(x_val))\n",
    "print(type(y_train))\n",
    "print(type(y_val))"
   ]
  },
  {
   "cell_type": "markdown",
   "metadata": {
    "id": "IX0iPLWKzEie"
   },
   "source": [
    "# **LSTM**"
   ]
  },
  {
   "cell_type": "code",
   "execution_count": null,
   "metadata": {
    "execution": {
     "iopub.execute_input": "2022-01-16T06:47:55.138204Z",
     "iopub.status.busy": "2022-01-16T06:47:55.137786Z",
     "iopub.status.idle": "2022-01-16T06:47:55.935026Z",
     "shell.execute_reply": "2022-01-16T06:47:55.933844Z",
     "shell.execute_reply.started": "2022-01-16T06:47:55.138049Z"
    },
    "id": "m9GYMP3gl7nI",
    "outputId": "2d8addca-0757-452d-e5d8-9aeb4b50acea"
   },
   "outputs": [],
   "source": [
    "model_1 = tf.keras.Sequential([\n",
    "\ttf.keras.layers.Embedding(len(word_index) + 1,\n",
    "                           embedding_dim_fasttext,\n",
    "                           weights = [embedding_matrix_fasttext],\n",
    "                           input_length = maxpadlen,\n",
    "                           trainable=False,\n",
    "                           name = 'embeddings'),\n",
    "  tf.keras.layers.Input(shape=(maxpadlen, ),dtype='int32'),\n",
    "  tf.keras.layers.LSTM(40,return_sequences=True, name='lstm_layer'),\n",
    "  tf.keras.layers.GlobalMaxPooling1D(),\n",
    "  tf.keras.layers.Dropout(.1),\n",
    "  tf.keras.layers.Dense(30, activation='relu', kernel_initializer='he_uniform'),\n",
    "\ttf.keras.layers.Dropout(.1),\n",
    "\ttf.keras.layers.Dense(6, activation='sigmoid', kernel_initializer='he_uniform')\n",
    "])\n",
    "model_1.compile(loss='binary_crossentropy', optimizer='adam', metrics=['accuracy'])\n",
    "model_1.summary()"
   ]
  },
  {
   "cell_type": "code",
   "execution_count": null,
   "metadata": {
    "execution": {
     "iopub.execute_input": "2022-01-16T06:47:57.332136Z",
     "iopub.status.busy": "2022-01-16T06:47:57.33182Z",
     "iopub.status.idle": "2022-01-16T06:48:00.954198Z",
     "shell.execute_reply": "2022-01-16T06:48:00.951232Z",
     "shell.execute_reply.started": "2022-01-16T06:47:57.332096Z"
    },
    "id": "B31-WWMTO7kv",
    "outputId": "f4a81d11-7484-4407-f549-d9246a6d1c9c"
   },
   "outputs": [],
   "source": [
    "history_1 = model_1.fit(x_train,y_train, epochs=2, batch_size=32,  validation_data=(x_val, y_val))"
   ]
  },
  {
   "cell_type": "markdown",
   "metadata": {
    "id": "13oHwwdWy0uH"
   },
   "source": [
    "# **Plotting Graph for LSTM**"
   ]
  },
  {
   "cell_type": "code",
   "execution_count": null,
   "metadata": {
    "execution": {
     "iopub.execute_input": "2022-01-10T13:04:02.152339Z",
     "iopub.status.busy": "2022-01-10T13:04:02.15119Z",
     "iopub.status.idle": "2022-01-10T13:04:02.598208Z",
     "shell.execute_reply": "2022-01-10T13:04:02.596348Z",
     "shell.execute_reply.started": "2022-01-10T13:04:02.152274Z"
    },
    "id": "C5dDsNozTl64",
    "outputId": "115ef96d-681d-4d26-a0fc-44864aa6d91e"
   },
   "outputs": [],
   "source": [
    "def plot_graphs(history_1, string):\n",
    "  plt.plot(history_1.history[string])\n",
    "  plt.plot(history_1.history['val_'+string])\n",
    "  plt.xlabel(\"Epochs\")\n",
    "  plt.ylabel(string)\n",
    "  plt.legend([string, 'val_'+string])\n",
    "  plt.show()\n",
    "\n",
    "plot_graphs(history_1, 'accuracy')\n",
    "plot_graphs(history_1, 'loss')"
   ]
  },
  {
   "cell_type": "markdown",
   "metadata": {
    "id": "tePn_PBNNofA"
   },
   "source": [
    "# **LSTM-CNN Model**"
   ]
  },
  {
   "cell_type": "code",
   "execution_count": null,
   "metadata": {
    "execution": {
     "iopub.execute_input": "2022-01-10T13:04:02.600865Z",
     "iopub.status.busy": "2022-01-10T13:04:02.600407Z",
     "iopub.status.idle": "2022-01-10T13:04:03.546438Z",
     "shell.execute_reply": "2022-01-10T13:04:03.545524Z",
     "shell.execute_reply.started": "2022-01-10T13:04:02.600806Z"
    },
    "id": "2MXc3I7yObIr",
    "outputId": "8b73dd1f-578d-42a8-802b-e39d064c99d7"
   },
   "outputs": [],
   "source": [
    "model_2 = tf.keras.Sequential([\n",
    "\ttf.keras.layers.Embedding(len(word_index) + 1,\n",
    "                           embedding_dim_fasttext,\n",
    "                           weights = [embedding_matrix_fasttext],\n",
    "                           input_length = maxpadlen,\n",
    "                           trainable=False,\n",
    "                           name = 'embeddings'),\n",
    "  tf.keras.layers.Input(shape=(maxpadlen, ),dtype='int32'),\n",
    "  tf.keras.layers.LSTM(50,return_sequences=True, name='lstm_layer'),\n",
    "  tf.keras.layers.Conv1D(filters=64, kernel_size=3, padding='same', activation='relu', kernel_initializer='he_uniform'),\n",
    "  tf.keras.layers.MaxPooling1D(3),\n",
    "  tf.keras.layers.GlobalMaxPool1D(),\n",
    "  tf.keras.layers.BatchNormalization(),\n",
    "  tf.keras.layers.Dense(40, activation=\"relu\", kernel_initializer='he_uniform'),\n",
    "  tf.keras.layers.Dropout(0.2),\n",
    "  tf.keras.layers.Dense(30, activation=\"relu\", kernel_initializer='he_uniform'),\n",
    "  tf.keras.layers.Dropout(0.2),\n",
    "  tf.keras.layers.Dense(6, activation=\"sigmoid\", kernel_initializer='glorot_uniform')\n",
    "])\n",
    "model_2.compile(loss='binary_crossentropy', optimizer='adam', metrics=['accuracy'])\n",
    "model_2.summary()"
   ]
  },
  {
   "cell_type": "code",
   "execution_count": null,
   "metadata": {
    "execution": {
     "iopub.execute_input": "2022-01-10T13:04:03.548147Z",
     "iopub.status.busy": "2022-01-10T13:04:03.547885Z",
     "iopub.status.idle": "2022-01-10T13:30:21.680928Z",
     "shell.execute_reply": "2022-01-10T13:30:21.679984Z",
     "shell.execute_reply.started": "2022-01-10T13:04:03.548114Z"
    },
    "id": "FDN4WGQ9P44f",
    "outputId": "0947c12f-f1e4-4cae-ec5e-4832451b48a4"
   },
   "outputs": [],
   "source": [
    "history_2 = model_2.fit(x_train,y_train, epochs=2, batch_size=32,  validation_data=(x_val, y_val))"
   ]
  },
  {
   "cell_type": "markdown",
   "metadata": {
    "id": "eVC5PeL_QUmp"
   },
   "source": [
    "# **Plotting Graph for LSTM-CNN**"
   ]
  },
  {
   "cell_type": "code",
   "execution_count": null,
   "metadata": {
    "execution": {
     "iopub.execute_input": "2022-01-10T13:30:21.684973Z",
     "iopub.status.busy": "2022-01-10T13:30:21.684297Z",
     "iopub.status.idle": "2022-01-10T13:30:22.123346Z",
     "shell.execute_reply": "2022-01-10T13:30:22.122315Z",
     "shell.execute_reply.started": "2022-01-10T13:30:21.684911Z"
    },
    "id": "iITdiMceQlO2"
   },
   "outputs": [],
   "source": [
    "def plot_graphs(history_2, string):\n",
    "  plt.plot(history_2.history[string])\n",
    "  plt.plot(history_2.history['val_'+string])\n",
    "  plt.xlabel(\"Epochs\")\n",
    "  plt.ylabel(string)\n",
    "  plt.legend([string, 'val_'+string])\n",
    "  plt.show()\n",
    "\n",
    "plot_graphs(history_2, 'accuracy')\n",
    "plot_graphs(history_2, 'loss')"
   ]
  },
  {
   "cell_type": "markdown",
   "metadata": {
    "id": "CTONaXI8CvqG"
   },
   "source": [
    "# **Submission**"
   ]
  },
  {
   "cell_type": "code",
   "execution_count": null,
   "metadata": {
    "execution": {
     "iopub.execute_input": "2022-01-10T13:31:05.850077Z",
     "iopub.status.busy": "2022-01-10T13:31:05.849646Z",
     "iopub.status.idle": "2022-01-10T13:31:05.9104Z",
     "shell.execute_reply": "2022-01-10T13:31:05.909619Z",
     "shell.execute_reply.started": "2022-01-10T13:31:05.850028Z"
    },
    "id": "fZjixqVDDP3C"
   },
   "outputs": [],
   "source": [
    "sub = pd.read_csv(\"comments_to_score.csv\")"
   ]
  },
  {
   "cell_type": "code",
   "execution_count": null,
   "metadata": {
    "execution": {
     "iopub.execute_input": "2022-01-10T13:31:07.377467Z",
     "iopub.status.busy": "2022-01-10T13:31:07.376926Z",
     "iopub.status.idle": "2022-01-10T13:31:24.090882Z",
     "shell.execute_reply": "2022-01-10T13:31:24.090029Z",
     "shell.execute_reply.started": "2022-01-10T13:31:07.377426Z"
    },
    "id": "4TLqgn9R1sSE"
   },
   "outputs": [],
   "source": [
    "c=0\n",
    "clean=[]\n",
    "for i in sub['text']:\n",
    "  i=clean_text(i)\n",
    "  i=lemma(i)\n",
    "  i=remove_stopwords(i)\n",
    "  clean.append(i)"
   ]
  },
  {
   "cell_type": "code",
   "execution_count": null,
   "metadata": {
    "execution": {
     "iopub.execute_input": "2022-01-10T13:31:24.09338Z",
     "iopub.status.busy": "2022-01-10T13:31:24.092836Z",
     "iopub.status.idle": "2022-01-10T13:31:24.101359Z",
     "shell.execute_reply": "2022-01-10T13:31:24.100372Z",
     "shell.execute_reply.started": "2022-01-10T13:31:24.09333Z"
    },
    "id": "VadzL68F4eri",
    "outputId": "16e6e2da-a4f0-4db5-d38f-578b2ed031e2"
   },
   "outputs": [],
   "source": [
    "sub['Cleaned_Comments']=clean"
   ]
  },
  {
   "cell_type": "code",
   "execution_count": null,
   "metadata": {
    "execution": {
     "iopub.execute_input": "2022-01-10T13:31:24.103067Z",
     "iopub.status.busy": "2022-01-10T13:31:24.102755Z",
     "iopub.status.idle": "2022-01-10T13:31:24.122912Z",
     "shell.execute_reply": "2022-01-10T13:31:24.122166Z",
     "shell.execute_reply.started": "2022-01-10T13:31:24.103029Z"
    },
    "id": "9QpAWemD4ttZ"
   },
   "outputs": [],
   "source": [
    "sub.head()"
   ]
  },
  {
   "cell_type": "code",
   "execution_count": null,
   "metadata": {
    "execution": {
     "iopub.execute_input": "2022-01-10T13:31:24.126087Z",
     "iopub.status.busy": "2022-01-10T13:31:24.125457Z",
     "iopub.status.idle": "2022-01-10T13:31:37.79947Z",
     "shell.execute_reply": "2022-01-10T13:31:37.798103Z",
     "shell.execute_reply.started": "2022-01-10T13:31:24.126033Z"
    },
    "id": "7isAqzg84ztJ"
   },
   "outputs": [],
   "source": [
    "X_ = tokenizer.texts_to_sequences(sub['Cleaned_Comments'])\n",
    "test_padded = pad_sequences(X_, maxlen=maxpadlen, truncating='post')\n",
    "pred = model_1.predict(test_padded)"
   ]
  },
  {
   "cell_type": "code",
   "execution_count": null,
   "metadata": {
    "execution": {
     "iopub.execute_input": "2022-01-10T13:31:37.802584Z",
     "iopub.status.busy": "2022-01-10T13:31:37.802249Z",
     "iopub.status.idle": "2022-01-10T13:31:37.807537Z",
     "shell.execute_reply": "2022-01-10T13:31:37.80685Z",
     "shell.execute_reply.started": "2022-01-10T13:31:37.802545Z"
    }
   },
   "outputs": [],
   "source": [
    "sub['score']=0.0"
   ]
  },
  {
   "cell_type": "code",
   "execution_count": null,
   "metadata": {
    "execution": {
     "iopub.execute_input": "2022-01-10T13:31:46.012355Z",
     "iopub.status.busy": "2022-01-10T13:31:46.011914Z",
     "iopub.status.idle": "2022-01-10T13:31:48.016078Z",
     "shell.execute_reply": "2022-01-10T13:31:48.015055Z",
     "shell.execute_reply.started": "2022-01-10T13:31:46.012307Z"
    }
   },
   "outputs": [],
   "source": [
    "for i in range(len(pred)):\n",
    "    sub['score'][i]=pred[i][0]+pred[i][1]+pred[i][2]+pred[i][3]+pred[i][4]+pred[i][5]"
   ]
  },
  {
   "cell_type": "code",
   "execution_count": null,
   "metadata": {
    "execution": {
     "iopub.execute_input": "2022-01-10T13:31:50.369981Z",
     "iopub.status.busy": "2022-01-10T13:31:50.369623Z",
     "iopub.status.idle": "2022-01-10T13:31:50.382831Z",
     "shell.execute_reply": "2022-01-10T13:31:50.381889Z",
     "shell.execute_reply.started": "2022-01-10T13:31:50.369946Z"
    }
   },
   "outputs": [],
   "source": [
    "sub.head()"
   ]
  },
  {
   "cell_type": "code",
   "execution_count": null,
   "metadata": {
    "execution": {
     "iopub.execute_input": "2022-01-10T13:32:16.057279Z",
     "iopub.status.busy": "2022-01-10T13:32:16.056912Z",
     "iopub.status.idle": "2022-01-10T13:32:16.891716Z",
     "shell.execute_reply": "2022-01-10T13:32:16.890659Z",
     "shell.execute_reply.started": "2022-01-10T13:32:16.057241Z"
    },
    "id": "59q2ZlroO-z1"
   },
   "outputs": [],
   "source": [
    "for i in range(len(pred)):\n",
    "  if sub['score'][i]>1:\n",
    "    sub['score'][i]=1"
   ]
  },
  {
   "cell_type": "code",
   "execution_count": null,
   "metadata": {
    "execution": {
     "iopub.execute_input": "2022-01-10T13:32:24.972696Z",
     "iopub.status.busy": "2022-01-10T13:32:24.97231Z",
     "iopub.status.idle": "2022-01-10T13:32:24.983803Z",
     "shell.execute_reply": "2022-01-10T13:32:24.983073Z",
     "shell.execute_reply.started": "2022-01-10T13:32:24.972655Z"
    }
   },
   "outputs": [],
   "source": [
    "sub.drop(['text'],axis=1,inplace=True)\n",
    "sub.drop(['Cleaned_Comments'],axis=1,inplace=True)"
   ]
  },
  {
   "cell_type": "code",
   "execution_count": null,
   "metadata": {
    "execution": {
     "iopub.execute_input": "2022-01-10T13:32:28.713125Z",
     "iopub.status.busy": "2022-01-10T13:32:28.712741Z",
     "iopub.status.idle": "2022-01-10T13:32:28.72456Z",
     "shell.execute_reply": "2022-01-10T13:32:28.723666Z",
     "shell.execute_reply.started": "2022-01-10T13:32:28.713081Z"
    },
    "id": "hqE-G7xYRTKz"
   },
   "outputs": [],
   "source": [
    "sub.head()"
   ]
  },
  {
   "cell_type": "code",
   "execution_count": null,
   "metadata": {
    "execution": {
     "iopub.execute_input": "2022-01-10T13:32:35.462885Z",
     "iopub.status.busy": "2022-01-10T13:32:35.462463Z",
     "iopub.status.idle": "2022-01-10T13:32:35.504729Z",
     "shell.execute_reply": "2022-01-10T13:32:35.504009Z",
     "shell.execute_reply.started": "2022-01-10T13:32:35.462833Z"
    }
   },
   "outputs": [],
   "source": [
    "sub[['comment_id', 'score']].to_csv(\"submission.csv\", index=False)"
   ]
  }
 ],
 "metadata": {
  "kernelspec": {
   "display_name": "Python 3",
   "language": "python",
   "name": "python3"
  },
  "language_info": {
   "codemirror_mode": {
    "name": "ipython",
    "version": 3
   },
   "file_extension": ".py",
   "mimetype": "text/x-python",
   "name": "python",
   "nbconvert_exporter": "python",
   "pygments_lexer": "ipython3",
   "version": "3.8.8"
  }
 },
 "nbformat": 4,
 "nbformat_minor": 4
}
